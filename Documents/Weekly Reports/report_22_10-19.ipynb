{
 "cells": [
  {
   "cell_type": "markdown",
   "metadata": {},
   "source": [
    "From the data, we can measure the following quantities:\n",
    "- The number (mean and distribution?) of detectable clones (>1%) with age\n",
    "- Proportion of compartment covered by expanded (>1%) clones\n",
    "- clone size distribution with age (?)\n",
    "- fitness distribution across clones\n",
    "\n",
    "For our current model, we wish to find parameter combinations which can obtain dynamics with similar values in the above quantities. The parameter space of the model is defined by:\n",
    "- $N$: the total population size\n",
    "- $\\mu$: the fit mutation rate of the total population\n",
    "- $s$: the mean fitness of new mutations\n",
    "- :$\\sigma$: the std of the fitness distribution (not necessary for every fitness model)"
   ]
  },
  {
   "cell_type": "markdown",
   "metadata": {},
   "source": [
    "In the data we notice a surprising gap in the observed fitness distribution. Can this be explained by a \"two-hit\" model?"
   ]
  },
  {
   "cell_type": "markdown",
   "metadata": {},
   "source": [
    "Take the mutation rate $\\mu$ the same for the first and second hits, $\\mu$, and let the fitness per mutation act multiplicative, $\\alpha \\rightarrow \\alpha(1+s)$, so that a cell with $k$ hits has growth rate $\\alpha (1+s)^k$. The the number of mutations with 1 hit is given by\n",
    "\\begin{equation}\n",
    "m_1 = N \\mu t\n",
    "\\end{equation}\n",
    "Denote the number of cells with a 1 hit mutation as $n_1$. The number of mutations with 2 hits is then given by\n",
    "\\begin{equation}\n",
    "m_2 = n_1 \\mu t\n",
    "\\end{equation}\n",
    "To find $n_1$ we must integrate over the mutant arrival rate and the expected growth function $g(t)$:\n",
    "\\begin{equation}\n",
    "n_1 = \\int N \\mu \\, t' g(t') dt'\n",
    "\\end{equation}\n",
    "Thus we have for the number of 2 hit mutations:\n",
    "\\begin{equation}\n",
    "m_2 = N \\mu^2 t \\int N \\mu \\, t' g(t') dt'\n",
    "\\end{equation}"
   ]
  },
  {
   "cell_type": "markdown",
   "metadata": {},
   "source": []
  }
 ],
 "metadata": {
  "kernelspec": {
   "display_name": "Julia 1.6.0",
   "language": "julia",
   "name": "julia-1.6"
  },
  "language_info": {
   "name": "julia"
  },
  "orig_nbformat": 4
 },
 "nbformat": 4,
 "nbformat_minor": 2
}
